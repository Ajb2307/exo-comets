{
 "cells": [
  {
   "cell_type": "code",
   "execution_count": 2,
   "id": "fcea29ef-cbd8-41f2-9066-bdf9cf45f140",
   "metadata": {},
   "outputs": [],
   "source": [
    "import numpy as np"
   ]
  },
  {
   "cell_type": "code",
   "execution_count": null,
   "id": "f687320d-67aa-476d-8643-9c47503e7677",
   "metadata": {},
   "outputs": [],
   "source": [
    "# Notes"
   ]
  },
  {
   "cell_type": "markdown",
   "id": "76691b21-7917-45ec-89e1-ef892515094d",
   "metadata": {},
   "source": [
    "# ESO/HARPS Radial Velocities Catalog: \n",
    "\n",
    "1. Abstract\n",
    "\n",
    "* This document details the first public data release of the HARPS radial velocities catalog.\n",
    "* This data have a baselinefrom 2003 to 2023 with the High Accuracy Radial Velocity Planet Searcher (HARPS) spectrograph @ ESO 3.6m telescope in La Silla Observatory (Chile) \n",
    "\n",
    "2. HARPS\n",
    "Since HARPS became operational in 2003, the telescope has undergone the following significant interventions: \n",
    "\n",
    "* in 2004, a new secondary mirror cell was manufactured, which significantly improved the image quality of the telescope \n",
    "\n",
    "* the main mirror was coated with aluminium in the years 2005, 2008, 2014, 2017 and 2021.\n",
    "\n",
    "* The system covers a spectral range of 3780-6910 Å, with a resolution of R=115 000.\n",
    "The detector consists of a 4k x 4k mosaic of 2 CCDs, losing one spectral order due to\n",
    "the gap between chips (from 5300 to 5330 Å).\n",
    "\n",
    "HARPS underwent several significant updates and changes since its first light on\n",
    "February 11, 2003; key changes include:\n",
    "* the installation of an Atmospheric Dispersion Corrector (ADC) in May 2004 6\n",
    "* the Iodine self-calibration method was taken out of service starting from May\n",
    "2004 7\n",
    "* the high efficiency fiber link (EGGS) was added in 2006.\n",
    "\n",
    "* in August 2008 the reference fiber for EGGS was discovered damaged and not\n",
    "transmitting light8, it was replaced in 2015 (see below).\n",
    "* the spectro-polarimeter capability was added in 2010 (Piskunov et al., 2011), the\n",
    "corresponding science data products can be downloaded from here:\n",
    "http://archive.eso.org/wdb/wdb/eso/repro/form.\n",
    "* in 2015 the original circular shaped optical fibers were replaced by new octago-\n",
    "nal fibers (Lo Curto et al., 2015). This upgrade led to the elimination of system-\n",
    "atic due to de-centering and de-focusing, repaired the broken sky fiber of EGGS,\n",
    "and increased the throughput of HARPS by at least 10%, improving light scram-\n",
    "bling capabilities and increasing the stability of the light injection within the\n",
    "spectrograph. The installation of the new fibers, leaded to a shift in radial veloc-\n",
    "ity before and after the date of the installation. A brief resume of the fiber related\n",
    "problematics is provided in Appendix B.\n",
    "* the Laser Frequency Comb (LFC) started running at HARPS in 2018, but it is\n",
    "used only for calibrations and not offered for night-time observations, for more\n",
    "details see Lo Curto et al. (2012). HARPS data obtained during commissioning\n",
    "run of LFC can be downloaded from here:\n",
    "https://www.eso.org/sci/activities/instcomm/harps_lfc.html\n",
    "* On 21 Oct 2014, the processed HARPS echelle data were made available as\n",
    "Science Data Products (SDP)9 through the Phase 3 query form10 and spectral\n",
    "query form11 , and trough the ESO Science portal12. This dataset contain HARPS\n",
    "DRS pipeline products: 1D spectra in the ESO/SDP PHASE3 standard format\n",
    "and the ancillary tar files. The dataset spans from HARPS inception in October\n",
    "2003 to the present.\n",
    "  \n",
    "5. Data quality\n",
    "\n",
    "* In some cases, the HARPS DRS values for the radial velocities are not reliable. For example when:\n",
    "    * Different values from those in the literature\n",
    "    * RV values too large. since almost all the observations of HARPS are stars within our Galaxy, radial velocities of stars under normal circumstances cannot exceed the 1 000 km/s in absolute value."
   ]
  },
  {
   "cell_type": "markdown",
   "id": "9794f213-9b7a-4536-92e7-c35f7e04c855",
   "metadata": {},
   "source": [
    "# Two families of exocomets in beta pictoris\n",
    "\n",
    "1. Abstract\n",
    "\n",
    "* One family consists of exocomets producing __shallow absorption lines__, which can be attributed to old exhausted (that is, strongly depleted in volatiles) comets trapped in a mean motion resonance with a massive planet. \n",
    "* Another family consists of exocomets producing __deep absorption lines__, which may be related to the recent fragmentation of one or a few parent bodies. Our results show that the evaporating bodies observed for decades in the b Pictoris system are analogous to the comets in our own Solar System.\n",
    "\n",
    "2. Intro\n",
    "* Observations of the calcium (Ca II) doublet—the Ca II\n",
    "K-line at 3,933.66 A˚ and the Ca II H-line at 3,968.47 A˚ —show a large\n",
    "number of variable absorption features (Fig. 1) varying on __timescales\n",
    "of one to six hours__. These features, simultaneously detected in both Ca II\n",
    "K and Ca II H lines, are interpreted as exocomets transiting in front of\n",
    "the stellar disk\n",
    "* Since the b Pic Ca II spectrum is typically observed to\n",
    "be stable on 30-min timescales, we averaged together spectra in distinct\n",
    "10-min time intervals to limit any possible spectral variability. This re-\n",
    "sults in a total of 357 spectra with signal-to-noise ratio greater than 80.\n",
    "To characterize the profile of these transient absorption lines, we divided\n",
    "each of the 357 averaged spectra by a reference spectrum of b Pictoris\n",
    "(Extended Data Figs 1 and 2) assumed to be free of the absorption sig-\n",
    "natures of transiting exocomets.\n",
    "\n",
    "* RV vs Flux plots.\n",
    "* Given the HARPS resolution and sensitivity, each b Pictoris spectrum\n",
    "shows an average of about six variable absorption features that are due\n",
    "to exocomets. These features have radial velocities ranging from 2150\n",
    "to 1200 km s21 with respect to the b Pictoris heliocentric radial velo-\n",
    "city (,20 km s21 ).\n",
    "\n"
   ]
  },
  {
   "cell_type": "markdown",
   "id": "8d9b2b51-7106-4676-ac7d-4f5ceede1203",
   "metadata": {},
   "source": [
    "#     Exocomets in the circumstellar gas disk of HD 172555 \n",
    "\n"
   ]
  },
  {
   "cell_type": "code",
   "execution_count": null,
   "id": "0fd1aa81-512b-496d-ab33-ca9faeb290c9",
   "metadata": {},
   "outputs": [],
   "source": []
  },
  {
   "cell_type": "code",
   "execution_count": null,
   "id": "74160c4a-6fa9-4a0f-9479-a2ad784422a9",
   "metadata": {},
   "outputs": [],
   "source": []
  },
  {
   "cell_type": "code",
   "execution_count": null,
   "id": "05d442c9-1686-4de1-a9b2-c6ba03a216a7",
   "metadata": {},
   "outputs": [],
   "source": []
  }
 ],
 "metadata": {
  "kernelspec": {
   "display_name": "Python 3 (ipykernel)",
   "language": "python",
   "name": "python3"
  },
  "language_info": {
   "codemirror_mode": {
    "name": "ipython",
    "version": 3
   },
   "file_extension": ".py",
   "mimetype": "text/x-python",
   "name": "python",
   "nbconvert_exporter": "python",
   "pygments_lexer": "ipython3",
   "version": "3.8.19"
  }
 },
 "nbformat": 4,
 "nbformat_minor": 5
}
